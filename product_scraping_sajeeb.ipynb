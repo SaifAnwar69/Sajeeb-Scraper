{
 "cells": [
  {
   "cell_type": "markdown",
   "metadata": {},
   "source": [
    "# Scraping site for products"
   ]
  },
  {
   "cell_type": "markdown",
   "metadata": {},
   "source": [
    "Had to find all products in a website for uni assignment."
   ]
  },
  {
   "cell_type": "code",
   "execution_count": 5,
   "metadata": {},
   "outputs": [],
   "source": [
    "import requests\n",
    "from bs4 import BeautifulSoup as bs \n",
    "import re\n",
    "\n",
    "def products(url):\n",
    "    headers = {\n",
    "        'user-agent': 'Mozilla/5.0 (Windows NT 10.0; Win64; x64) AppleWebKit/537.36 (KHTML, like Gecko) Chrome/69.0.3497.100 Safari/537.36'\n",
    "    }\n",
    "\n",
    "    #load the webpage content\n",
    "    r = requests.get(url,headers = headers)\n",
    "\n",
    "    #Convert to a bs object\n",
    "    soup = bs(r.text, 'lxml')\n",
    "\n",
    "    #can pass in attributes to the find/find_all function\n",
    "    \n",
    "    product_list = []\n",
    "    \n",
    "    \n",
    "    name_class = soup.find_all(\"h2\", attrs = {'class':\"ts-image-hover-title\"})\n",
    "    for x in name_class:\n",
    "        x.find(\"h2\", attrs = {'class':\"ts-image-hover-title\"})\n",
    "        product_list.append(x.text)\n",
    "        \n",
    "    return product_list"
   ]
  },
  {
   "cell_type": "code",
   "execution_count": 2,
   "metadata": {},
   "outputs": [],
   "source": [
    "url = 'https://sajeebgroup.com.bd/'\n",
    "headers = {\n",
    "    'user-agent': 'Mozilla/5.0 (Windows NT 10.0; Win64; x64) AppleWebKit/537.36 (KHTML, like Gecko) Chrome/69.0.3497.100 Safari/537.36'\n",
    "}\n",
    "\n",
    "r = requests.get(url,headers = headers)\n",
    "soup = bs(r.text, 'lxml')\n",
    "\n",
    "brands = soup.find_all('div', {'class':'col-sm-3'})\n",
    "\n",
    "#puts all links in a list\n",
    "brand_links_list = []\n",
    "for brand in brands:\n",
    "    links = brand.find('a', {'class':'category'})['href']\n",
    "    brand_links_list.append(links)"
   ]
  },
  {
   "cell_type": "code",
   "execution_count": 7,
   "metadata": {},
   "outputs": [],
   "source": [
    "list_of_products_ = [products(url) for url in brand_links_list]"
   ]
  },
  {
   "cell_type": "code",
   "execution_count": 14,
   "metadata": {},
   "outputs": [],
   "source": [
    "list_of_products_flat = [item for sublist in list_of_products_ for item in sublist if item != None or item != '']"
   ]
  },
  {
   "cell_type": "code",
   "execution_count": 15,
   "metadata": {},
   "outputs": [
    {
     "data": {
      "text/plain": [
       "['Shezan Mango Tetra',\n",
       " 'Shezan Drinks Bottle',\n",
       " 'Mango Bar',\n",
       " 'Shezan Mango Jam',\n",
       " 'Shezan Mango Drinks',\n",
       " 'Shezan Mixed Fruit Jam',\n",
       " 'Shezan Hot tomato Sauce',\n",
       " 'Shezan Premium Mango Drink Tertra Pack',\n",
       " 'Shezan Orange Jelly',\n",
       " 'Shezan Hot Tomato Sauce 340g',\n",
       " 'Shezan Mango Bar',\n",
       " 'Shezan Apple Jelly',\n",
       " 'Sajeeb-Atta-1-Kg',\n",
       " 'Sajeeb Maida',\n",
       " 'Sajeeb Suji',\n",
       " 'Sajeeb Brown Atta',\n",
       " 'Sajeeb Instant Noodles',\n",
       " 'Sajeeb Stick Noodles-Chicken',\n",
       " 'Sajeeb Cook Noodles Masala',\n",
       " 'Sajeeb Stick Noodles',\n",
       " 'Sajeeb Cook Noodles',\n",
       " 'Sajeeb Stick Noodles-Egg',\n",
       " 'Sajeeb-Thai-Noodles',\n",
       " 'Sajeeb Hot Tomato Sauce',\n",
       " 'Sajeeb Hot Tomato Sauce',\n",
       " 'Sweetmeat Mix',\n",
       " 'Chicken Curry',\n",
       " 'Coriander',\n",
       " 'Cumin Powder 100g',\n",
       " 'Sajeeb Drinks 250ml',\n",
       " 'Sajeeb Drinks 250ml',\n",
       " 'Potato Crackers',\n",
       " 'Sajeeb Beef Curry',\n",
       " 'Sajeeb Chicken Masala',\n",
       " 'Sajeeb Hot Tomato Sauce',\n",
       " 'Sajeeb Jhal Muri',\n",
       " 'Sajeeb Litchi Drink',\n",
       " 'Sajeeb Litchi Drink',\n",
       " 'Sajeeb Mustard Oil',\n",
       " 'Sajeeb Puffys Chocolate',\n",
       " 'Sajeeb Bhuna Khichuri',\n",
       " 'Sajeeb Tomato Ketchup',\n",
       " 'Beef Curry',\n",
       " 'Chilli Powder',\n",
       " 'Coriander Powder',\n",
       " 'Curry Powder 200g',\n",
       " 'Sajeeb Drinks 1000ml',\n",
       " 'Glucose Pouch Pack',\n",
       " 'Puffed Rice',\n",
       " 'Sajeeb Beef Masala',\n",
       " 'Sajeeb Chocolate Milk',\n",
       " 'Sajeeb Fish Curry',\n",
       " 'Sajeeb Junior Drinks',\n",
       " 'Sajeeb Mango Bar Paper Box',\n",
       " 'Sajeeb Mango Drinks',\n",
       " 'Sajeeb Orange Flavored Drink 200ml',\n",
       " 'Sajeeb Puffys Mad Masala',\n",
       " 'Sajeeb Spice Powder Coriander 100g pouch pack',\n",
       " 'Sajeeb Hot Tomato Sauce',\n",
       " 'Beef Masala',\n",
       " 'Chilli Pouch Pack',\n",
       " 'Curry Powder 400g',\n",
       " 'Curry Powder 400g',\n",
       " 'Hot Chanachur',\n",
       " 'Sajeeb Aromatic Rice',\n",
       " 'Sajeeb Cocktail Mixed Fruit Drink',\n",
       " 'Sajeeb Fruit Cocktail',\n",
       " 'Sajeeb Isabgol Pouch Pack',\n",
       " 'Sajeeb Lachhi',\n",
       " 'Sajeeb Mango Bar Small 14gm pouch pack with paper box.',\n",
       " 'Sajeeb Mango Drinks 250ml Export',\n",
       " 'Sajeeb Orange Drinks 250ml Export',\n",
       " 'Sajeeb Puffys Tomato',\n",
       " 'Sajeeb Soya Nugget',\n",
       " 'Corn Flakes',\n",
       " 'Sajeeb Tomato ketchup',\n",
       " 'Sajeeb Bottle',\n",
       " 'Sajeeb Bottle',\n",
       " 'Chokolee Chokolee',\n",
       " 'Cumin 100g Pouch Pack',\n",
       " 'Sajeeb Junior Mango Drinks',\n",
       " 'Sajeeb Junior Mango Drinks',\n",
       " 'Mezbani Masala',\n",
       " 'Sajeeb Bar-B-Q',\n",
       " 'Sajeeb Chicken Curry',\n",
       " 'Sajeeb Hot Tomato Sauce',\n",
       " 'Sajeeb Mango Drinks',\n",
       " 'Sajeeb Mango Drink Powder',\n",
       " 'Sajeeb Orange Soft Drink Powder',\n",
       " 'sajeeb_spice_powder_turmeric_100g_pouch_pack',\n",
       " 'Sajeeb Spice Powder Cumin 100g pouch pack',\n",
       " 'Sajeeb Spice Powder Chilli 100g Pouch Pack',\n",
       " 'Sajeeb Soya Sauce',\n",
       " 'Kolson Macaroni Wester Small',\n",
       " 'Kolson Macaroni Ring Small',\n",
       " 'Kolson Macaroni Ring Small',\n",
       " 'Kolson Macaroni Wester Big',\n",
       " 'Kolson Macaroni Wester Big',\n",
       " 'Kolson Macaroni Assorted Paper Box',\n",
       " 'Kolson Macaroni Assorted Paper Box',\n",
       " 'Kolson Macaroni Ring Big',\n",
       " 'Kolson Macaroni Ring Big',\n",
       " 'Nocilla Cup',\n",
       " 'Nocilla Jar Red',\n",
       " 'Nocilla Jar Blue',\n",
       " 'Nocilla Cup Red',\n",
       " '',\n",
       " 'Hulk',\n",
       " '',\n",
       " 'PURO ',\n",
       " 'Poppin',\n",
       " '']"
      ]
     },
     "execution_count": 15,
     "metadata": {},
     "output_type": "execute_result"
    }
   ],
   "source": [
    "list_of_products_flat"
   ]
  },
  {
   "cell_type": "code",
   "execution_count": null,
   "metadata": {},
   "outputs": [],
   "source": []
  }
 ],
 "metadata": {
  "kernelspec": {
   "display_name": "Python 3",
   "language": "python",
   "name": "python3"
  },
  "language_info": {
   "codemirror_mode": {
    "name": "ipython",
    "version": 3
   },
   "file_extension": ".py",
   "mimetype": "text/x-python",
   "name": "python",
   "nbconvert_exporter": "python",
   "pygments_lexer": "ipython3",
   "version": "3.8.5"
  }
 },
 "nbformat": 4,
 "nbformat_minor": 4
}
